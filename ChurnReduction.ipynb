{
 "cells": [
  {
   "cell_type": "code",
   "execution_count": 84,
   "metadata": {},
   "outputs": [],
   "source": [
    "#import Libraries\n",
    "\n",
    "import os\n",
    "import pandas as pd\n",
    "import numpy as np\n",
    "from fancyimpute import KNN\n",
    "import matplotlib.pyplot as plt\n",
    "from sklearn.cross_validation import train_test_split\n",
    "from sklearn import tree\n",
    "from sklearn.metrics import accuracy_score\n",
    "from sklearn.ensemble import RandomForestClassifier\n",
    "import statsmodels.api as sm\n",
    "from sklearn.neighbors import KNeighborsClassifier\n",
    "from sklearn.metrics import confusion_matrix\n",
    "import seaborn as sns\n",
    "from scipy.stats import chi2_contingency\n",
    "from sklearn.preprocessing import LabelEncoder,OneHotEncoder\n",
    "from sklearn.naive_bayes import GaussianNB\n",
    "from sklearn.metrics import roc_curve, auc"
   ]
  },
  {
   "cell_type": "code",
   "execution_count": 2,
   "metadata": {},
   "outputs": [],
   "source": [
    "#set working directory\n",
    "os.chdir(\"/home/neha/home/Project_1/Python_Project1\")"
   ]
  },
  {
   "cell_type": "code",
   "execution_count": 3,
   "metadata": {},
   "outputs": [
    {
     "data": {
      "text/plain": [
       "'/home/neha/home/Project_1/Python_Project1'"
      ]
     },
     "execution_count": 3,
     "metadata": {},
     "output_type": "execute_result"
    }
   ],
   "source": [
    "os.getcwd()"
   ]
  },
  {
   "cell_type": "code",
   "execution_count": 4,
   "metadata": {},
   "outputs": [],
   "source": [
    "#Load train and test data\n",
    "data_train = pd.read_csv(\"Train_data.csv\")\n",
    "data_test = pd.read_csv(\"Test_data.csv\")"
   ]
  },
  {
   "cell_type": "code",
   "execution_count": 5,
   "metadata": {},
   "outputs": [],
   "source": [
    "#Let's combine the data for preprocessing\n",
    "churn_data = data_train.append(data_test)"
   ]
  },
  {
   "cell_type": "code",
   "execution_count": 6,
   "metadata": {},
   "outputs": [
    {
     "data": {
      "text/html": [
       "<div>\n",
       "<style scoped>\n",
       "    .dataframe tbody tr th:only-of-type {\n",
       "        vertical-align: middle;\n",
       "    }\n",
       "\n",
       "    .dataframe tbody tr th {\n",
       "        vertical-align: top;\n",
       "    }\n",
       "\n",
       "    .dataframe thead th {\n",
       "        text-align: right;\n",
       "    }\n",
       "</style>\n",
       "<table border=\"1\" class=\"dataframe\">\n",
       "  <thead>\n",
       "    <tr style=\"text-align: right;\">\n",
       "      <th></th>\n",
       "      <th>state</th>\n",
       "      <th>account length</th>\n",
       "      <th>area code</th>\n",
       "      <th>phone number</th>\n",
       "      <th>international plan</th>\n",
       "      <th>voice mail plan</th>\n",
       "      <th>number vmail messages</th>\n",
       "      <th>total day minutes</th>\n",
       "      <th>total day calls</th>\n",
       "      <th>total day charge</th>\n",
       "      <th>...</th>\n",
       "      <th>total eve calls</th>\n",
       "      <th>total eve charge</th>\n",
       "      <th>total night minutes</th>\n",
       "      <th>total night calls</th>\n",
       "      <th>total night charge</th>\n",
       "      <th>total intl minutes</th>\n",
       "      <th>total intl calls</th>\n",
       "      <th>total intl charge</th>\n",
       "      <th>number customer service calls</th>\n",
       "      <th>Churn</th>\n",
       "    </tr>\n",
       "  </thead>\n",
       "  <tbody>\n",
       "    <tr>\n",
       "      <th>0</th>\n",
       "      <td>KS</td>\n",
       "      <td>128</td>\n",
       "      <td>415</td>\n",
       "      <td>382-4657</td>\n",
       "      <td>no</td>\n",
       "      <td>yes</td>\n",
       "      <td>25</td>\n",
       "      <td>265.1</td>\n",
       "      <td>110</td>\n",
       "      <td>45.07</td>\n",
       "      <td>...</td>\n",
       "      <td>99</td>\n",
       "      <td>16.78</td>\n",
       "      <td>244.7</td>\n",
       "      <td>91</td>\n",
       "      <td>11.01</td>\n",
       "      <td>10.0</td>\n",
       "      <td>3</td>\n",
       "      <td>2.70</td>\n",
       "      <td>1</td>\n",
       "      <td>False.</td>\n",
       "    </tr>\n",
       "    <tr>\n",
       "      <th>1</th>\n",
       "      <td>OH</td>\n",
       "      <td>107</td>\n",
       "      <td>415</td>\n",
       "      <td>371-7191</td>\n",
       "      <td>no</td>\n",
       "      <td>yes</td>\n",
       "      <td>26</td>\n",
       "      <td>161.6</td>\n",
       "      <td>123</td>\n",
       "      <td>27.47</td>\n",
       "      <td>...</td>\n",
       "      <td>103</td>\n",
       "      <td>16.62</td>\n",
       "      <td>254.4</td>\n",
       "      <td>103</td>\n",
       "      <td>11.45</td>\n",
       "      <td>13.7</td>\n",
       "      <td>3</td>\n",
       "      <td>3.70</td>\n",
       "      <td>1</td>\n",
       "      <td>False.</td>\n",
       "    </tr>\n",
       "    <tr>\n",
       "      <th>2</th>\n",
       "      <td>NJ</td>\n",
       "      <td>137</td>\n",
       "      <td>415</td>\n",
       "      <td>358-1921</td>\n",
       "      <td>no</td>\n",
       "      <td>no</td>\n",
       "      <td>0</td>\n",
       "      <td>243.4</td>\n",
       "      <td>114</td>\n",
       "      <td>41.38</td>\n",
       "      <td>...</td>\n",
       "      <td>110</td>\n",
       "      <td>10.30</td>\n",
       "      <td>162.6</td>\n",
       "      <td>104</td>\n",
       "      <td>7.32</td>\n",
       "      <td>12.2</td>\n",
       "      <td>5</td>\n",
       "      <td>3.29</td>\n",
       "      <td>0</td>\n",
       "      <td>False.</td>\n",
       "    </tr>\n",
       "    <tr>\n",
       "      <th>3</th>\n",
       "      <td>OH</td>\n",
       "      <td>84</td>\n",
       "      <td>408</td>\n",
       "      <td>375-9999</td>\n",
       "      <td>yes</td>\n",
       "      <td>no</td>\n",
       "      <td>0</td>\n",
       "      <td>299.4</td>\n",
       "      <td>71</td>\n",
       "      <td>50.90</td>\n",
       "      <td>...</td>\n",
       "      <td>88</td>\n",
       "      <td>5.26</td>\n",
       "      <td>196.9</td>\n",
       "      <td>89</td>\n",
       "      <td>8.86</td>\n",
       "      <td>6.6</td>\n",
       "      <td>7</td>\n",
       "      <td>1.78</td>\n",
       "      <td>2</td>\n",
       "      <td>False.</td>\n",
       "    </tr>\n",
       "    <tr>\n",
       "      <th>4</th>\n",
       "      <td>OK</td>\n",
       "      <td>75</td>\n",
       "      <td>415</td>\n",
       "      <td>330-6626</td>\n",
       "      <td>yes</td>\n",
       "      <td>no</td>\n",
       "      <td>0</td>\n",
       "      <td>166.7</td>\n",
       "      <td>113</td>\n",
       "      <td>28.34</td>\n",
       "      <td>...</td>\n",
       "      <td>122</td>\n",
       "      <td>12.61</td>\n",
       "      <td>186.9</td>\n",
       "      <td>121</td>\n",
       "      <td>8.41</td>\n",
       "      <td>10.1</td>\n",
       "      <td>3</td>\n",
       "      <td>2.73</td>\n",
       "      <td>3</td>\n",
       "      <td>False.</td>\n",
       "    </tr>\n",
       "  </tbody>\n",
       "</table>\n",
       "<p>5 rows × 21 columns</p>\n",
       "</div>"
      ],
      "text/plain": [
       "  state  account length  area code phone number international plan  \\\n",
       "0    KS             128        415     382-4657                 no   \n",
       "1    OH             107        415     371-7191                 no   \n",
       "2    NJ             137        415     358-1921                 no   \n",
       "3    OH              84        408     375-9999                yes   \n",
       "4    OK              75        415     330-6626                yes   \n",
       "\n",
       "  voice mail plan  number vmail messages  total day minutes  total day calls  \\\n",
       "0             yes                     25              265.1              110   \n",
       "1             yes                     26              161.6              123   \n",
       "2              no                      0              243.4              114   \n",
       "3              no                      0              299.4               71   \n",
       "4              no                      0              166.7              113   \n",
       "\n",
       "   total day charge   ...     total eve calls  total eve charge  \\\n",
       "0             45.07   ...                  99             16.78   \n",
       "1             27.47   ...                 103             16.62   \n",
       "2             41.38   ...                 110             10.30   \n",
       "3             50.90   ...                  88              5.26   \n",
       "4             28.34   ...                 122             12.61   \n",
       "\n",
       "   total night minutes  total night calls  total night charge  \\\n",
       "0                244.7                 91               11.01   \n",
       "1                254.4                103               11.45   \n",
       "2                162.6                104                7.32   \n",
       "3                196.9                 89                8.86   \n",
       "4                186.9                121                8.41   \n",
       "\n",
       "   total intl minutes  total intl calls  total intl charge  \\\n",
       "0                10.0                 3               2.70   \n",
       "1                13.7                 3               3.70   \n",
       "2                12.2                 5               3.29   \n",
       "3                 6.6                 7               1.78   \n",
       "4                10.1                 3               2.73   \n",
       "\n",
       "   number customer service calls    Churn  \n",
       "0                              1   False.  \n",
       "1                              1   False.  \n",
       "2                              0   False.  \n",
       "3                              2   False.  \n",
       "4                              3   False.  \n",
       "\n",
       "[5 rows x 21 columns]"
      ]
     },
     "execution_count": 6,
     "metadata": {},
     "output_type": "execute_result"
    }
   ],
   "source": [
    "churn_data.head()"
   ]
  },
  {
   "cell_type": "code",
   "execution_count": 7,
   "metadata": {
    "scrolled": true
   },
   "outputs": [
    {
     "name": "stdout",
     "output_type": "stream",
     "text": [
      "<class 'pandas.core.frame.DataFrame'>\n",
      "Int64Index: 5000 entries, 0 to 1666\n",
      "Data columns (total 21 columns):\n",
      "state                            5000 non-null object\n",
      "account length                   5000 non-null int64\n",
      "area code                        5000 non-null int64\n",
      "phone number                     5000 non-null object\n",
      "international plan               5000 non-null object\n",
      "voice mail plan                  5000 non-null object\n",
      "number vmail messages            5000 non-null int64\n",
      "total day minutes                5000 non-null float64\n",
      "total day calls                  5000 non-null int64\n",
      "total day charge                 5000 non-null float64\n",
      "total eve minutes                5000 non-null float64\n",
      "total eve calls                  5000 non-null int64\n",
      "total eve charge                 5000 non-null float64\n",
      "total night minutes              5000 non-null float64\n",
      "total night calls                5000 non-null int64\n",
      "total night charge               5000 non-null float64\n",
      "total intl minutes               5000 non-null float64\n",
      "total intl calls                 5000 non-null int64\n",
      "total intl charge                5000 non-null float64\n",
      "number customer service calls    5000 non-null int64\n",
      "Churn                            5000 non-null object\n",
      "dtypes: float64(8), int64(8), object(5)\n",
      "memory usage: 859.4+ KB\n"
     ]
    }
   ],
   "source": [
    "churn_data.info()"
   ]
  },
  {
   "cell_type": "markdown",
   "metadata": {},
   "source": [
    "# Exploratory Aata Analysis"
   ]
  },
  {
   "cell_type": "code",
   "execution_count": 8,
   "metadata": {},
   "outputs": [],
   "source": [
    "## Convert Data into required types\n",
    "churn_data['area code'] = churn_data['area code'].astype(str)\n",
    "churn_data['number customer service calls'] = churn_data['number customer service calls'].astype(str)"
   ]
  },
  {
   "cell_type": "code",
   "execution_count": 9,
   "metadata": {},
   "outputs": [],
   "source": [
    "for i in range(0, len(churn_data.columns)):\n",
    "    if(churn_data.iloc[:,i].dtypes == 'object'):\n",
    "        churn_data.iloc[:,i] = pd.Categorical(churn_data.iloc[:,i])\n",
    "        churn_data.iloc[:,i] = churn_data.iloc[:,i].cat.codes \n",
    "        churn_data.iloc[:,i] = churn_data.iloc[:,i].astype('object')"
   ]
  },
  {
   "cell_type": "code",
   "execution_count": 10,
   "metadata": {},
   "outputs": [],
   "source": [
    "object_cnames = []\n",
    "numeric_cnames = []\n",
    "target_cnames = []\n",
    "for i in range(0, len(churn_data.columns)):\n",
    "    if(churn_data.iloc[:,i].dtypes == 'object' and churn_data.columns[i] != 'Churn'):\n",
    "        object_cnames.append(churn_data.columns[i])\n",
    "    elif(churn_data.iloc[:,i].dtypes == 'int64' or churn_data.iloc[:,i].dtypes == 'float64'):\n",
    "        numeric_cnames.append(churn_data.columns[i])\n",
    "    else:\n",
    "        target_cnames.append(churn_data.columns[i])\n",
    "        "
   ]
  },
  {
   "cell_type": "code",
   "execution_count": null,
   "metadata": {},
   "outputs": [],
   "source": [
    "#Let's check if there is any missing value \n",
    "churn_data.isnull().sum()\n",
    "#There is no missing value"
   ]
  },
  {
   "cell_type": "code",
   "execution_count": null,
   "metadata": {},
   "outputs": [],
   "source": [
    "churn_data.info()"
   ]
  },
  {
   "cell_type": "markdown",
   "metadata": {},
   "source": [
    "# Outlier Analysis"
   ]
  },
  {
   "cell_type": "code",
   "execution_count": 11,
   "metadata": {},
   "outputs": [
    {
     "data": {
      "text/plain": [
       "{'whiskers': [<matplotlib.lines.Line2D at 0x7ff778c8c518>,\n",
       "  <matplotlib.lines.Line2D at 0x7ff778c8c080>],\n",
       " 'caps': [<matplotlib.lines.Line2D at 0x7ff778c5a400>,\n",
       "  <matplotlib.lines.Line2D at 0x7ff778c5a828>],\n",
       " 'boxes': [<matplotlib.lines.Line2D at 0x7ff778c8c668>],\n",
       " 'medians': [<matplotlib.lines.Line2D at 0x7ff778c5ac50>],\n",
       " 'fliers': [<matplotlib.lines.Line2D at 0x7ff778c630b8>],\n",
       " 'means': []}"
      ]
     },
     "execution_count": 11,
     "metadata": {},
     "output_type": "execute_result"
    },
    {
     "data": {
      "image/png": "[encoded data removed]",
      "text/plain": [
       "<Figure size 432x288 with 1 Axes>"
      ]
     },
     "metadata": {},
     "output_type": "display_data"
    }
   ],
   "source": [
    "%matplotlib inline\n",
    "plt.boxplot(churn_data['account length'])"
   ]
  },
  {
   "cell_type": "code",
   "execution_count": 12,
   "metadata": {},
   "outputs": [],
   "source": [
    "#Detect and impute outliers with NA\n",
    "for i in numeric_cnames:\n",
    "     #print(i)\n",
    "    q75, q25= np.percentile(churn_data.loc[:,i], [75 ,25])\n",
    "    iqr = q75 - q25\n",
    "    \n",
    "    min = q25 - (iqr*1.5)\n",
    "    max = q75 + (iqr*1.5)\n",
    "    \n",
    "    #print(min)\n",
    "    #print(max)\n",
    "    \n",
    "    churn_data.loc[churn_data[i] < min,:i] = np.nan\n",
    "    churn_data.loc[churn_data[i] > max,:i] = np.nan"
   ]
  },
  {
   "cell_type": "code",
   "execution_count": 13,
   "metadata": {},
   "outputs": [],
   "source": [
    "missing_val = pd.DataFrame(churn_data.isnull().sum())"
   ]
  },
  {
   "cell_type": "code",
   "execution_count": 14,
   "metadata": {
    "collapsed": true
   },
   "outputs": [
    {
     "name": "stdout",
     "output_type": "stream",
     "text": [
      "Imputing row 1/5000 with 0 missing, elapsed time: 9.307\n",
      "Imputing row 101/5000 with 0 missing, elapsed time: 9.314\n",
      "Imputing row 201/5000 with 0 missing, elapsed time: 9.323\n",
      "Imputing row 301/5000 with 0 missing, elapsed time: 9.331\n",
      "Imputing row 401/5000 with 0 missing, elapsed time: 9.344\n",
      "Imputing row 501/5000 with 0 missing, elapsed time: 9.352\n",
      "Imputing row 601/5000 with 0 missing, elapsed time: 9.363\n",
      "Imputing row 701/5000 with 0 missing, elapsed time: 9.370\n",
      "Imputing row 801/5000 with 0 missing, elapsed time: 9.375\n",
      "Imputing row 901/5000 with 0 missing, elapsed time: 9.386\n",
      "Imputing row 1001/5000 with 0 missing, elapsed time: 9.398\n",
      "Imputing row 1101/5000 with 0 missing, elapsed time: 9.409\n",
      "Imputing row 1201/5000 with 15 missing, elapsed time: 9.416\n",
      "Imputing row 1301/5000 with 0 missing, elapsed time: 9.426\n",
      "Imputing row 1401/5000 with 19 missing, elapsed time: 9.437\n",
      "Imputing row 1501/5000 with 0 missing, elapsed time: 9.444\n",
      "Imputing row 1601/5000 with 0 missing, elapsed time: 9.452\n",
      "Imputing row 1701/5000 with 0 missing, elapsed time: 9.458\n",
      "Imputing row 1801/5000 with 0 missing, elapsed time: 9.463\n",
      "Imputing row 1901/5000 with 0 missing, elapsed time: 9.470\n",
      "Imputing row 2001/5000 with 0 missing, elapsed time: 9.474\n",
      "Imputing row 2101/5000 with 0 missing, elapsed time: 9.479\n",
      "Imputing row 2201/5000 with 0 missing, elapsed time: 9.485\n",
      "Imputing row 2301/5000 with 0 missing, elapsed time: 9.495\n",
      "Imputing row 2401/5000 with 0 missing, elapsed time: 9.503\n",
      "Imputing row 2501/5000 with 0 missing, elapsed time: 9.506\n",
      "Imputing row 2601/5000 with 0 missing, elapsed time: 9.515\n",
      "Imputing row 2701/5000 with 2 missing, elapsed time: 9.521\n",
      "Imputing row 2801/5000 with 0 missing, elapsed time: 9.530\n",
      "Imputing row 2901/5000 with 0 missing, elapsed time: 9.536\n",
      "Imputing row 3001/5000 with 0 missing, elapsed time: 9.546\n",
      "Imputing row 3101/5000 with 0 missing, elapsed time: 9.554\n",
      "Imputing row 3201/5000 with 0 missing, elapsed time: 9.563\n",
      "Imputing row 3301/5000 with 0 missing, elapsed time: 9.573\n",
      "Imputing row 3401/5000 with 19 missing, elapsed time: 9.578\n",
      "Imputing row 3501/5000 with 0 missing, elapsed time: 9.585\n",
      "Imputing row 3601/5000 with 0 missing, elapsed time: 9.596\n",
      "Imputing row 3701/5000 with 0 missing, elapsed time: 9.602\n",
      "Imputing row 3801/5000 with 18 missing, elapsed time: 9.608\n",
      "Imputing row 3901/5000 with 0 missing, elapsed time: 9.617\n",
      "Imputing row 4001/5000 with 0 missing, elapsed time: 9.629\n",
      "Imputing row 4101/5000 with 0 missing, elapsed time: 9.634\n",
      "Imputing row 4201/5000 with 0 missing, elapsed time: 9.643\n",
      "Imputing row 4301/5000 with 0 missing, elapsed time: 9.651\n",
      "Imputing row 4401/5000 with 0 missing, elapsed time: 9.663\n",
      "Imputing row 4501/5000 with 0 missing, elapsed time: 9.672\n",
      "Imputing row 4601/5000 with 0 missing, elapsed time: 9.683\n",
      "Imputing row 4701/5000 with 0 missing, elapsed time: 9.691\n",
      "Imputing row 4801/5000 with 0 missing, elapsed time: 9.701\n",
      "Imputing row 4901/5000 with 0 missing, elapsed time: 9.710\n"
     ]
    }
   ],
   "source": [
    "#impute with KNN\n",
    "churn_data = pd.DataFrame(KNN(k = 3).complete(churn_data), columns = churn_data.columns)"
   ]
  },
  {
   "cell_type": "markdown",
   "metadata": {},
   "source": [
    "# Feature Selection"
   ]
  },
  {
   "cell_type": "code",
   "execution_count": 15,
   "metadata": {},
   "outputs": [],
   "source": [
    "df_corr = churn_data.loc[:, numeric_cnames]"
   ]
  },
  {
   "cell_type": "code",
   "execution_count": 16,
   "metadata": {},
   "outputs": [
    {
     "data": {
      "text/plain": [
       "<matplotlib.axes._subplots.AxesSubplot at 0x7ff778cf42b0>"
      ]
     },
     "execution_count": 16,
     "metadata": {},
     "output_type": "execute_result"
    },
    {
     "data": {
      "image/png": "[encoded data removed]",
      "text/plain": [
       "<Figure size 720x576 with 2 Axes>"
      ]
     },
     "metadata": {},
     "output_type": "display_data"
    }
   ],
   "source": [
    "f, ax = plt.subplots(figsize=(10, 8))\n",
    "\n",
    "corr = df_corr.corr()\n",
    "\n",
    "sns.heatmap(corr, mask=np.zeros_like(corr, dtype=np.bool), cmap=sns.diverging_palette(220, 10, as_cmap=True),\n",
    "            square=True, ax=ax)"
   ]
  },
  {
   "cell_type": "code",
   "execution_count": 17,
   "metadata": {},
   "outputs": [
    {
     "name": "stdout",
     "output_type": "stream",
     "text": [
      "state\n",
      "1.8750313178393932e-11\n",
      "area code\n",
      "6.321099335461773e-09\n",
      "phone number\n",
      "0.27412502542444905\n",
      "international plan\n",
      "4.561292638431719e-50\n",
      "voice mail plan\n",
      "8.505930058473204e-16\n",
      "number customer service calls\n",
      "4.186291993492475e-101\n"
     ]
    }
   ],
   "source": [
    "for i in object_cnames:\n",
    "      print(i)\n",
    "      chi2, p, dof, ex = chi2_contingency(pd.crosstab(churn_data['Churn'], churn_data[i]))\n",
    "      print(p)"
   ]
  },
  {
   "cell_type": "code",
   "execution_count": 18,
   "metadata": {},
   "outputs": [],
   "source": [
    "churn_data = churn_data.drop(['total day charge', 'total eve charge', 'total night charge', 'total intl charge', \n",
    "                                'area code', 'phone number'], axis=1 )\n",
    "#as area code is also of no use                              "
   ]
  },
  {
   "cell_type": "code",
   "execution_count": 19,
   "metadata": {},
   "outputs": [],
   "source": [
    "numeric_cnames = ['account length','number vmail messages','total day minutes','total day calls','total eve minutes',\n",
    "                  'total eve calls','total night minutes','total night calls','total intl minutes',\n",
    "                  'total intl calls']"
   ]
  },
  {
   "cell_type": "code",
   "execution_count": 20,
   "metadata": {},
   "outputs": [
    {
     "name": "stdout",
     "output_type": "stream",
     "text": [
      "account length\n",
      "number vmail messages\n",
      "total day minutes\n",
      "total day calls\n",
      "total eve minutes\n",
      "total eve calls\n",
      "total night minutes\n",
      "total night calls\n",
      "total intl minutes\n",
      "total intl calls\n"
     ]
    }
   ],
   "source": [
    "#Normalisation\n",
    "\n",
    "for i in numeric_cnames:\n",
    "    print(i)\n",
    "    churn_data[i] = (churn_data[i] - np.min(churn_data[i]))/(np.max(churn_data[i]) - np.min(churn_data[i]))"
   ]
  },
  {
   "cell_type": "markdown",
   "metadata": {},
   "source": [
    "# Model Development"
   ]
  },
  {
   "cell_type": "code",
   "execution_count": 21,
   "metadata": {},
   "outputs": [],
   "source": [
    "#Replace tagret categories with yes or no\n",
    "churn_data['Churn'] = churn_data['Churn'].replace(0, 'No')\n",
    "churn_data['Churn'] = churn_data['Churn'].replace(1, 'Yes')"
   ]
  },
  {
   "cell_type": "code",
   "execution_count": 22,
   "metadata": {},
   "outputs": [],
   "source": [
    "#Devide the data in train and test\n",
    "X = churn_data.values[:,0:14]\n",
    "Y = churn_data.values[:,14]\n",
    "\n",
    "X_train, X_test, Y_train, Y_test = train_test_split(X, Y, test_size = 0.2)"
   ]
  },
  {
   "cell_type": "code",
   "execution_count": 23,
   "metadata": {},
   "outputs": [],
   "source": [
    "#1.Decision Tree\n",
    "DT_clf = tree.DecisionTreeClassifier(criterion = 'entropy').fit(X_train, Y_train)"
   ]
  },
  {
   "cell_type": "code",
   "execution_count": 24,
   "metadata": {},
   "outputs": [],
   "source": [
    "Y_Predict = DT_clf.predict(X_test)"
   ]
  },
  {
   "cell_type": "code",
   "execution_count": 25,
   "metadata": {},
   "outputs": [],
   "source": [
    "#Confusion Matrix\n",
    "CM_DT = confusion_matrix(Y_test, Y_Predict)"
   ]
  },
  {
   "cell_type": "code",
   "execution_count": 26,
   "metadata": {},
   "outputs": [],
   "source": [
    "CM_DT = pd.crosstab(Y_test, Y_Predict)"
   ]
  },
  {
   "cell_type": "code",
   "execution_count": 27,
   "metadata": {},
   "outputs": [],
   "source": [
    "TN = CM_DT.iloc[0,0]\n",
    "FN = CM_DT.iloc[1,0]\n",
    "TP = CM_DT.iloc[1,1]\n",
    "FP = CM_DT.iloc[0,1]"
   ]
  },
  {
   "cell_type": "code",
   "execution_count": 28,
   "metadata": {},
   "outputs": [
    {
     "data": {
      "text/plain": [
       "89.9"
      ]
     },
     "execution_count": 28,
     "metadata": {},
     "output_type": "execute_result"
    }
   ],
   "source": [
    "accuracy_score(Y_test, Y_Predict)*100"
   ]
  },
  {
   "cell_type": "code",
   "execution_count": 29,
   "metadata": {},
   "outputs": [
    {
     "data": {
      "text/plain": [
       "35.61643835616438"
      ]
     },
     "execution_count": 29,
     "metadata": {},
     "output_type": "execute_result"
    }
   ],
   "source": [
    "(FN*100)/(FN+TP)"
   ]
  },
  {
   "cell_type": "code",
   "execution_count": 30,
   "metadata": {},
   "outputs": [],
   "source": [
    "#For Decision Tree\n",
    "#Accuracy : 91.8\n",
    "#FNR : 35.65"
   ]
  },
  {
   "cell_type": "code",
   "execution_count": 31,
   "metadata": {},
   "outputs": [],
   "source": [
    "#2.Random Forest\n",
    "RF_Model = RandomForestClassifier(n_estimators=500).fit(X_train, Y_train)"
   ]
  },
  {
   "cell_type": "code",
   "execution_count": 32,
   "metadata": {},
   "outputs": [],
   "source": [
    "RF_Predictions = RF_Model.predict(X_test)"
   ]
  },
  {
   "cell_type": "code",
   "execution_count": 33,
   "metadata": {},
   "outputs": [],
   "source": [
    "CM_RF = confusion_matrix(Y_test, Y_Predict)"
   ]
  },
  {
   "cell_type": "code",
   "execution_count": 34,
   "metadata": {},
   "outputs": [
    {
     "data": {
      "text/plain": [
       "35.61643835616438"
      ]
     },
     "execution_count": 34,
     "metadata": {},
     "output_type": "execute_result"
    }
   ],
   "source": [
    "CM_RF = pd.crosstab(Y_test, Y_Predict)\n",
    "\n",
    "TN = CM_RF.iloc[0,0]\n",
    "FN = CM_RF.iloc[1,0]\n",
    "TP = CM_RF.iloc[1,1]\n",
    "FP = CM_RF.iloc[0,1]\n",
    "\n",
    "#Accuracy\n",
    "#((TN+TP)*100)/(TN+FN+TP+FP)\n",
    "\n",
    "#FNR\n",
    "(FN*100)/(FN+TP)"
   ]
  },
  {
   "cell_type": "code",
   "execution_count": 89,
   "metadata": {},
   "outputs": [],
   "source": [
    "#For Random Forest\n",
    "#Accuracy : 91.8\n",
    "#FNR :35.65"
   ]
  },
  {
   "cell_type": "code",
   "execution_count": 90,
   "metadata": {},
   "outputs": [],
   "source": [
    "#3.KNN Implementation\n",
    "\n",
    "KNN_Model = KNeighborsClassifier(n_neighbors = 9).fit(X_train, Y_train)"
   ]
  },
  {
   "cell_type": "code",
   "execution_count": 92,
   "metadata": {},
   "outputs": [],
   "source": [
    "KNN_Predictions = KNN_Model.predict(X_test)"
   ]
  },
  {
   "cell_type": "code",
   "execution_count": 96,
   "metadata": {},
   "outputs": [
    {
     "data": {
      "text/plain": [
       "92.46575342465754"
      ]
     },
     "execution_count": 96,
     "metadata": {},
     "output_type": "execute_result"
    }
   ],
   "source": [
    "CM = pd.crosstab(Y_test, KNN_Predictions)\n",
    "\n",
    "TN = CM.iloc[0,0]\n",
    "FN = CM.iloc[1,0]\n",
    "TP = CM.iloc[1,1]\n",
    "FP = CM.iloc[0,1]\n",
    "\n",
    "#check accuracy of model\n",
    "#accuracy_score(y_test, y_pred)*100\n",
    "#((TN+TP)*100)/(TN+FN+TP+FP)\n",
    "\n",
    "#FNR\n",
    "(FN*100)/(FN+TP)"
   ]
  },
  {
   "cell_type": "code",
   "execution_count": 97,
   "metadata": {},
   "outputs": [],
   "source": [
    "#For KNN Implementation\n",
    "#Accuracy : 85.2\n",
    "#FNR : 92.46"
   ]
  },
  {
   "cell_type": "code",
   "execution_count": 98,
   "metadata": {},
   "outputs": [],
   "source": [
    "#4.Naive Bayes\n",
    "\n",
    "NB_Model = GaussianNB().fit(X_train, Y_train)"
   ]
  },
  {
   "cell_type": "code",
   "execution_count": 99,
   "metadata": {},
   "outputs": [],
   "source": [
    "NB_Predictions = NB_Model.predict(X_test)"
   ]
  },
  {
   "cell_type": "code",
   "execution_count": 103,
   "metadata": {},
   "outputs": [
    {
     "data": {
      "text/plain": [
       "63.6986301369863"
      ]
     },
     "execution_count": 103,
     "metadata": {},
     "output_type": "execute_result"
    }
   ],
   "source": [
    "CM = pd.crosstab(Y_test, NB_Predictions)\n",
    "\n",
    "TN = CM.iloc[0,0]\n",
    "FN = CM.iloc[1,0]\n",
    "TP = CM.iloc[1,1]\n",
    "FP = CM.iloc[0,1]\n",
    "\n",
    "#check accuracy of model\n",
    "#((TN+TP)*100)/(TN+FN+TP+FP)\n",
    "\n",
    "#FNR\n",
    "(FN*100)/(FN+TP)\n",
    "\n",
    "#For Naive Bayes\n",
    "#Accuracy : 85.1\n",
    "#FNR : 63.69"
   ]
  }
 ],
 "metadata": {
  "kernelspec": {
   "display_name": "Python 3",
   "language": "python",
   "name": "python3"
  },
  "language_info": {
   "codemirror_mode": {
    "name": "ipython",
    "version": 3
   },
   "file_extension": ".py",
   "mimetype": "text/x-python",
   "name": "python",
   "nbconvert_exporter": "python",
   "pygments_lexer": "ipython3",
   "version": "3.6.5"
  }
 },
 "nbformat": 4,
 "nbformat_minor": 2
}
